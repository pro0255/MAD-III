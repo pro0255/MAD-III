{
 "cells": [
  {
   "cell_type": "markdown",
   "id": "30b61190-61c1-4dd2-a9ec-acbadc8a52ef",
   "metadata": {
    "tags": []
   },
   "source": [
    "# Supervised learning - Classification\n",
    "Goal of this excercise is to complete the hands-on experience task with similar task description as in the classification project case.\n",
    "\n",
    "We will use the modified Household Prices Dataset.\n",
    "\n",
    "Data source: https://www.kaggle.com/c/house-prices-advanced-regression-techniques/data\n",
    "\n",
    "Important attributes description:\n",
    "* SalePrice: The property's sale price in dollars. This is the target variable that you're trying to predict.\n",
    "* MSSubClass: The building class\n",
    "* BldgType: Type of dwelling\n",
    "* HouseStyle: Style of dwelling\n",
    "* OverallQual: Overall material and finish quality\n",
    "* OverallCond: Overall condition rating\n",
    "* YearBuilt: Original construction date\n",
    "* Heating: Type of heating\n",
    "* CentralAir: Central air conditioning\n",
    "* GrLivArea: Above grade (ground) living area square feet\n",
    "* BedroomAbvGr: Number of bedrooms above basement level)"
   ]
  },
  {
   "cell_type": "markdown",
   "id": "95c8f408-80d7-4082-9f14-a56c24c6a7da",
   "metadata": {},
   "source": [
    "### Complete the following tasks:\n",
    "1. **Describe what operations you are performing for each of the features**\n",
    "    - Mainly focus on categorical features\n",
    "2. Answer the following questions:\n",
    "    - **How many values are missing?**\n",
    "    - **How many instances do you have in each of the classes?**\n",
    "    - **Which metric score do you propose for the classification model performance evaluation?**\n",
    "        - Hint: This depends on your previous answer\n",
    "3. Finish your preprocessing pipeline and split the data into the Input and Output part (i.e. X and y variables)\n",
    "4. Start with the Decision tree model\n",
    "    - Use 5-fold cross validation\n",
    "    - **Will you use *standard* cross validation or *stratified* cross validation? Why?**\n",
    "    - Compute mean of the obtained score values\n",
    "5. Select one other algorithm from https://scikit-learn.org/stable/supervised_learning.html\n",
    "    - Repeat the 5-fold CV\n",
    "6. **Write down which model is better and why**\n",
    "7. Do **5 experiments** with hyper-parameters\n",
    "    - Set the parameters\n",
    "    - Do the 5-fold CV\n",
    "    - Note the settings and score in the Markdown cell\n",
    "8. **Write down  which model is the best and why**"
   ]
  },
  {
   "cell_type": "code",
   "execution_count": 1,
   "id": "a70c5553-ad01-4d43-93fb-50c085f09a64",
   "metadata": {},
   "outputs": [],
   "source": [
    "import numpy as np\n",
    "import pandas as pd\n",
    "import seaborn as sns\n",
    "import matplotlib.pyplot as plt\n",
    "import math\n",
    "\n",
    "from sklearn.tree import DecisionTreeClassifier\n",
    "from sklearn.linear_model import LogisticRegression\n",
    "from sklearn.neighbors import KNeighborsClassifier\n",
    "from sklearn.model_selection import train_test_split, StratifiedKFold, KFold\n",
    "from sklearn.ensemble import RandomForestClassifier, AdaBoostClassifier, HistGradientBoostingClassifier, StackingClassifier\n",
    "from sklearn.metrics import accuracy_score, f1_score, recall_score, precision_score, confusion_matrix, auc\n",
    "from sklearn.preprocessing import OrdinalEncoder, StandardScaler, PowerTransformer, MinMaxScaler"
   ]
  },
  {
   "cell_type": "markdown",
   "id": "91919c63-d578-4f60-ab66-6b319e4d8aee",
   "metadata": {},
   "source": [
    "## We will use categorized price as a target variable\n",
    "- Our goal is to predict if the house will be sold for more than 250k USD or not"
   ]
  },
  {
   "cell_type": "code",
   "execution_count": 2,
   "id": "9c04fdf9-7fbf-48ac-ba7a-a8c748b16703",
   "metadata": {},
   "outputs": [],
   "source": [
    "df = pd.read_csv('mad3_cv1_data.csv').loc[:, ['SalePrice','MSSubClass','BldgType','HouseStyle','OverallQual','OverallCond','YearBuilt','Heating','CentralAir','GrLivArea','BedroomAbvGr']]\n",
    "df.loc[:, 'Target'] = (df.SalePrice > 250000).astype(int)\n",
    "df = df.drop(['SalePrice'], axis=1)"
   ]
  },
  {
   "cell_type": "code",
   "execution_count": 3,
   "id": "f24a55f9-b2c2-4815-a0b5-ceb261895856",
   "metadata": {},
   "outputs": [
    {
     "data": {
      "text/html": [
       "<div>\n",
       "<style scoped>\n",
       "    .dataframe tbody tr th:only-of-type {\n",
       "        vertical-align: middle;\n",
       "    }\n",
       "\n",
       "    .dataframe tbody tr th {\n",
       "        vertical-align: top;\n",
       "    }\n",
       "\n",
       "    .dataframe thead th {\n",
       "        text-align: right;\n",
       "    }\n",
       "</style>\n",
       "<table border=\"1\" class=\"dataframe\">\n",
       "  <thead>\n",
       "    <tr style=\"text-align: right;\">\n",
       "      <th></th>\n",
       "      <th>MSSubClass</th>\n",
       "      <th>BldgType</th>\n",
       "      <th>HouseStyle</th>\n",
       "      <th>OverallQual</th>\n",
       "      <th>OverallCond</th>\n",
       "      <th>YearBuilt</th>\n",
       "      <th>Heating</th>\n",
       "      <th>CentralAir</th>\n",
       "      <th>GrLivArea</th>\n",
       "      <th>BedroomAbvGr</th>\n",
       "      <th>Target</th>\n",
       "    </tr>\n",
       "  </thead>\n",
       "  <tbody>\n",
       "    <tr>\n",
       "      <th>0</th>\n",
       "      <td>60</td>\n",
       "      <td>1Fam</td>\n",
       "      <td>2Story</td>\n",
       "      <td>7</td>\n",
       "      <td>5</td>\n",
       "      <td>2003</td>\n",
       "      <td>GasA</td>\n",
       "      <td>Y</td>\n",
       "      <td>1710</td>\n",
       "      <td>3</td>\n",
       "      <td>0</td>\n",
       "    </tr>\n",
       "    <tr>\n",
       "      <th>1</th>\n",
       "      <td>20</td>\n",
       "      <td>1Fam</td>\n",
       "      <td>1Story</td>\n",
       "      <td>6</td>\n",
       "      <td>8</td>\n",
       "      <td>1976</td>\n",
       "      <td>GasA</td>\n",
       "      <td>Y</td>\n",
       "      <td>1262</td>\n",
       "      <td>3</td>\n",
       "      <td>0</td>\n",
       "    </tr>\n",
       "    <tr>\n",
       "      <th>2</th>\n",
       "      <td>60</td>\n",
       "      <td>1Fam</td>\n",
       "      <td>2Story</td>\n",
       "      <td>7</td>\n",
       "      <td>5</td>\n",
       "      <td>2001</td>\n",
       "      <td>GasA</td>\n",
       "      <td>Y</td>\n",
       "      <td>1786</td>\n",
       "      <td>3</td>\n",
       "      <td>0</td>\n",
       "    </tr>\n",
       "    <tr>\n",
       "      <th>3</th>\n",
       "      <td>70</td>\n",
       "      <td>1Fam</td>\n",
       "      <td>2Story</td>\n",
       "      <td>7</td>\n",
       "      <td>5</td>\n",
       "      <td>1915</td>\n",
       "      <td>GasA</td>\n",
       "      <td>Y</td>\n",
       "      <td>1717</td>\n",
       "      <td>3</td>\n",
       "      <td>0</td>\n",
       "    </tr>\n",
       "    <tr>\n",
       "      <th>4</th>\n",
       "      <td>60</td>\n",
       "      <td>1Fam</td>\n",
       "      <td>2Story</td>\n",
       "      <td>8</td>\n",
       "      <td>5</td>\n",
       "      <td>2000</td>\n",
       "      <td>GasA</td>\n",
       "      <td>Y</td>\n",
       "      <td>2198</td>\n",
       "      <td>4</td>\n",
       "      <td>0</td>\n",
       "    </tr>\n",
       "  </tbody>\n",
       "</table>\n",
       "</div>"
      ],
      "text/plain": [
       "   MSSubClass BldgType HouseStyle  OverallQual  OverallCond  YearBuilt  \\\n",
       "0          60     1Fam     2Story            7            5       2003   \n",
       "1          20     1Fam     1Story            6            8       1976   \n",
       "2          60     1Fam     2Story            7            5       2001   \n",
       "3          70     1Fam     2Story            7            5       1915   \n",
       "4          60     1Fam     2Story            8            5       2000   \n",
       "\n",
       "  Heating CentralAir  GrLivArea  BedroomAbvGr  Target  \n",
       "0    GasA          Y       1710             3       0  \n",
       "1    GasA          Y       1262             3       0  \n",
       "2    GasA          Y       1786             3       0  \n",
       "3    GasA          Y       1717             3       0  \n",
       "4    GasA          Y       2198             4       0  "
      ]
     },
     "execution_count": 3,
     "metadata": {},
     "output_type": "execute_result"
    }
   ],
   "source": [
    "df.head()"
   ]
  },
  {
   "cell_type": "markdown",
   "id": "f284c232-b4e3-40fc-b502-a3f27c4b67ba",
   "metadata": {},
   "source": [
    "## Take a look at the features"
   ]
  },
  {
   "cell_type": "code",
   "execution_count": 4,
   "id": "b0788f18-bcd7-414e-bf4d-55f9ca913ee4",
   "metadata": {},
   "outputs": [],
   "source": [
    "df_numerical = df.select_dtypes(np.number)"
   ]
  },
  {
   "cell_type": "code",
   "execution_count": 5,
   "id": "1c6ba193-7e2c-4e4b-9bf8-cf75e5689c36",
   "metadata": {},
   "outputs": [
    {
     "data": {
      "text/html": [
       "<div>\n",
       "<style scoped>\n",
       "    .dataframe tbody tr th:only-of-type {\n",
       "        vertical-align: middle;\n",
       "    }\n",
       "\n",
       "    .dataframe tbody tr th {\n",
       "        vertical-align: top;\n",
       "    }\n",
       "\n",
       "    .dataframe thead th {\n",
       "        text-align: right;\n",
       "    }\n",
       "</style>\n",
       "<table border=\"1\" class=\"dataframe\">\n",
       "  <thead>\n",
       "    <tr style=\"text-align: right;\">\n",
       "      <th></th>\n",
       "      <th>MSSubClass</th>\n",
       "      <th>OverallQual</th>\n",
       "      <th>OverallCond</th>\n",
       "      <th>YearBuilt</th>\n",
       "      <th>GrLivArea</th>\n",
       "      <th>BedroomAbvGr</th>\n",
       "      <th>Target</th>\n",
       "    </tr>\n",
       "  </thead>\n",
       "  <tbody>\n",
       "    <tr>\n",
       "      <th>count</th>\n",
       "      <td>1460.000000</td>\n",
       "      <td>1460.000000</td>\n",
       "      <td>1460.000000</td>\n",
       "      <td>1460.000000</td>\n",
       "      <td>1460.000000</td>\n",
       "      <td>1460.000000</td>\n",
       "      <td>1460.000000</td>\n",
       "    </tr>\n",
       "    <tr>\n",
       "      <th>mean</th>\n",
       "      <td>56.897260</td>\n",
       "      <td>6.099315</td>\n",
       "      <td>5.575342</td>\n",
       "      <td>1971.267808</td>\n",
       "      <td>1515.463699</td>\n",
       "      <td>2.866438</td>\n",
       "      <td>0.148630</td>\n",
       "    </tr>\n",
       "    <tr>\n",
       "      <th>std</th>\n",
       "      <td>42.300571</td>\n",
       "      <td>1.382997</td>\n",
       "      <td>1.112799</td>\n",
       "      <td>30.202904</td>\n",
       "      <td>525.480383</td>\n",
       "      <td>0.815778</td>\n",
       "      <td>0.355845</td>\n",
       "    </tr>\n",
       "    <tr>\n",
       "      <th>min</th>\n",
       "      <td>20.000000</td>\n",
       "      <td>1.000000</td>\n",
       "      <td>1.000000</td>\n",
       "      <td>1872.000000</td>\n",
       "      <td>334.000000</td>\n",
       "      <td>0.000000</td>\n",
       "      <td>0.000000</td>\n",
       "    </tr>\n",
       "    <tr>\n",
       "      <th>25%</th>\n",
       "      <td>20.000000</td>\n",
       "      <td>5.000000</td>\n",
       "      <td>5.000000</td>\n",
       "      <td>1954.000000</td>\n",
       "      <td>1129.500000</td>\n",
       "      <td>2.000000</td>\n",
       "      <td>0.000000</td>\n",
       "    </tr>\n",
       "    <tr>\n",
       "      <th>50%</th>\n",
       "      <td>50.000000</td>\n",
       "      <td>6.000000</td>\n",
       "      <td>5.000000</td>\n",
       "      <td>1973.000000</td>\n",
       "      <td>1464.000000</td>\n",
       "      <td>3.000000</td>\n",
       "      <td>0.000000</td>\n",
       "    </tr>\n",
       "    <tr>\n",
       "      <th>75%</th>\n",
       "      <td>70.000000</td>\n",
       "      <td>7.000000</td>\n",
       "      <td>6.000000</td>\n",
       "      <td>2000.000000</td>\n",
       "      <td>1776.750000</td>\n",
       "      <td>3.000000</td>\n",
       "      <td>0.000000</td>\n",
       "    </tr>\n",
       "    <tr>\n",
       "      <th>max</th>\n",
       "      <td>190.000000</td>\n",
       "      <td>10.000000</td>\n",
       "      <td>9.000000</td>\n",
       "      <td>2010.000000</td>\n",
       "      <td>5642.000000</td>\n",
       "      <td>8.000000</td>\n",
       "      <td>1.000000</td>\n",
       "    </tr>\n",
       "  </tbody>\n",
       "</table>\n",
       "</div>"
      ],
      "text/plain": [
       "        MSSubClass  OverallQual  OverallCond    YearBuilt    GrLivArea  \\\n",
       "count  1460.000000  1460.000000  1460.000000  1460.000000  1460.000000   \n",
       "mean     56.897260     6.099315     5.575342  1971.267808  1515.463699   \n",
       "std      42.300571     1.382997     1.112799    30.202904   525.480383   \n",
       "min      20.000000     1.000000     1.000000  1872.000000   334.000000   \n",
       "25%      20.000000     5.000000     5.000000  1954.000000  1129.500000   \n",
       "50%      50.000000     6.000000     5.000000  1973.000000  1464.000000   \n",
       "75%      70.000000     7.000000     6.000000  2000.000000  1776.750000   \n",
       "max     190.000000    10.000000     9.000000  2010.000000  5642.000000   \n",
       "\n",
       "       BedroomAbvGr       Target  \n",
       "count   1460.000000  1460.000000  \n",
       "mean       2.866438     0.148630  \n",
       "std        0.815778     0.355845  \n",
       "min        0.000000     0.000000  \n",
       "25%        2.000000     0.000000  \n",
       "50%        3.000000     0.000000  \n",
       "75%        3.000000     0.000000  \n",
       "max        8.000000     1.000000  "
      ]
     },
     "execution_count": 5,
     "metadata": {},
     "output_type": "execute_result"
    }
   ],
   "source": [
    "df_numerical.describe()"
   ]
  },
  {
   "cell_type": "code",
   "execution_count": 6,
   "id": "0ec9f17a-bd51-4218-8d42-bd48c5c4b099",
   "metadata": {},
   "outputs": [
    {
     "name": "stderr",
     "output_type": "stream",
     "text": [
      "c:\\users\\proko\\appdata\\local\\programs\\python\\python38-32\\lib\\site-packages\\seaborn\\distributions.py:2551: FutureWarning: `distplot` is a deprecated function and will be removed in a future version. Please adapt your code to use either `displot` (a figure-level function with similar flexibility) or `histplot` (an axes-level function for histograms).\n",
      "  warnings.warn(msg, FutureWarning)\n",
      "c:\\users\\proko\\appdata\\local\\programs\\python\\python38-32\\lib\\site-packages\\seaborn\\distributions.py:2551: FutureWarning: `distplot` is a deprecated function and will be removed in a future version. Please adapt your code to use either `displot` (a figure-level function with similar flexibility) or `histplot` (an axes-level function for histograms).\n",
      "  warnings.warn(msg, FutureWarning)\n",
      "c:\\users\\proko\\appdata\\local\\programs\\python\\python38-32\\lib\\site-packages\\seaborn\\distributions.py:2551: FutureWarning: `distplot` is a deprecated function and will be removed in a future version. Please adapt your code to use either `displot` (a figure-level function with similar flexibility) or `histplot` (an axes-level function for histograms).\n",
      "  warnings.warn(msg, FutureWarning)\n",
      "c:\\users\\proko\\appdata\\local\\programs\\python\\python38-32\\lib\\site-packages\\seaborn\\distributions.py:2551: FutureWarning: `distplot` is a deprecated function and will be removed in a future version. Please adapt your code to use either `displot` (a figure-level function with similar flexibility) or `histplot` (an axes-level function for histograms).\n",
      "  warnings.warn(msg, FutureWarning)\n",
      "c:\\users\\proko\\appdata\\local\\programs\\python\\python38-32\\lib\\site-packages\\seaborn\\distributions.py:2551: FutureWarning: `distplot` is a deprecated function and will be removed in a future version. Please adapt your code to use either `displot` (a figure-level function with similar flexibility) or `histplot` (an axes-level function for histograms).\n",
      "  warnings.warn(msg, FutureWarning)\n",
      "c:\\users\\proko\\appdata\\local\\programs\\python\\python38-32\\lib\\site-packages\\seaborn\\distributions.py:2551: FutureWarning: `distplot` is a deprecated function and will be removed in a future version. Please adapt your code to use either `displot` (a figure-level function with similar flexibility) or `histplot` (an axes-level function for histograms).\n",
      "  warnings.warn(msg, FutureWarning)\n",
      "c:\\users\\proko\\appdata\\local\\programs\\python\\python38-32\\lib\\site-packages\\seaborn\\distributions.py:2551: FutureWarning: `distplot` is a deprecated function and will be removed in a future version. Please adapt your code to use either `displot` (a figure-level function with similar flexibility) or `histplot` (an axes-level function for histograms).\n",
      "  warnings.warn(msg, FutureWarning)\n"
     ]
    },
    {
     "data": {
      "image/png": "[encoded data removed]",
      "text/plain": [
       "<Figure size 1080x2160 with 7 Axes>"
      ]
     },
     "metadata": {
      "needs_background": "light"
     },
     "output_type": "display_data"
    }
   ],
   "source": [
    "fig, axes = plt.subplots(df_numerical.shape[1], 1, figsize=(15, 30))\n",
    "\n",
    "for ax, col in zip(axes, df_numerical.columns):\n",
    "    sns.distplot(df_numerical[col], ax=ax, axlabel=col)"
   ]
  },
  {
   "cell_type": "code",
   "execution_count": 7,
   "id": "015a2cf3-4dde-4722-97b9-0217e60cda00",
   "metadata": {},
   "outputs": [
    {
     "data": {
      "text/html": [
       "<div>\n",
       "<style scoped>\n",
       "    .dataframe tbody tr th:only-of-type {\n",
       "        vertical-align: middle;\n",
       "    }\n",
       "\n",
       "    .dataframe tbody tr th {\n",
       "        vertical-align: top;\n",
       "    }\n",
       "\n",
       "    .dataframe thead th {\n",
       "        text-align: right;\n",
       "    }\n",
       "</style>\n",
       "<table border=\"1\" class=\"dataframe\">\n",
       "  <thead>\n",
       "    <tr style=\"text-align: right;\">\n",
       "      <th></th>\n",
       "      <th>BldgType</th>\n",
       "      <th>HouseStyle</th>\n",
       "      <th>Heating</th>\n",
       "      <th>CentralAir</th>\n",
       "    </tr>\n",
       "  </thead>\n",
       "  <tbody>\n",
       "    <tr>\n",
       "      <th>count</th>\n",
       "      <td>1460</td>\n",
       "      <td>1460</td>\n",
       "      <td>1460</td>\n",
       "      <td>1460</td>\n",
       "    </tr>\n",
       "    <tr>\n",
       "      <th>unique</th>\n",
       "      <td>5</td>\n",
       "      <td>8</td>\n",
       "      <td>6</td>\n",
       "      <td>2</td>\n",
       "    </tr>\n",
       "    <tr>\n",
       "      <th>top</th>\n",
       "      <td>1Fam</td>\n",
       "      <td>1Story</td>\n",
       "      <td>GasA</td>\n",
       "      <td>Y</td>\n",
       "    </tr>\n",
       "    <tr>\n",
       "      <th>freq</th>\n",
       "      <td>1220</td>\n",
       "      <td>726</td>\n",
       "      <td>1428</td>\n",
       "      <td>1365</td>\n",
       "    </tr>\n",
       "  </tbody>\n",
       "</table>\n",
       "</div>"
      ],
      "text/plain": [
       "       BldgType HouseStyle Heating CentralAir\n",
       "count      1460       1460    1460       1460\n",
       "unique        5          8       6          2\n",
       "top        1Fam     1Story    GasA          Y\n",
       "freq       1220        726    1428       1365"
      ]
     },
     "execution_count": 7,
     "metadata": {},
     "output_type": "execute_result"
    }
   ],
   "source": [
    "df.describe(exclude=np.number)"
   ]
  },
  {
   "cell_type": "code",
   "execution_count": 8,
   "id": "c65c0f30-e471-43b0-a68a-9707f27d3286",
   "metadata": {},
   "outputs": [
    {
     "data": {
      "text/plain": [
       "array(['1Fam', '2fmCon', 'Duplex', 'TwnhsE', 'Twnhs'], dtype=object)"
      ]
     },
     "execution_count": 8,
     "metadata": {},
     "output_type": "execute_result"
    }
   ],
   "source": [
    "df.BldgType.unique()"
   ]
  },
  {
   "cell_type": "code",
   "execution_count": 9,
   "id": "23975618-51f0-4874-b11b-1b9444b0a975",
   "metadata": {},
   "outputs": [
    {
     "data": {
      "text/plain": [
       "array(['2Story', '1Story', '1.5Fin', '1.5Unf', 'SFoyer', 'SLvl', '2.5Unf',\n",
       "       '2.5Fin'], dtype=object)"
      ]
     },
     "execution_count": 9,
     "metadata": {},
     "output_type": "execute_result"
    }
   ],
   "source": [
    "df.HouseStyle.unique()"
   ]
  },
  {
   "cell_type": "code",
   "execution_count": 10,
   "id": "c143c1a3-e5cc-4625-9876-961385d59304",
   "metadata": {},
   "outputs": [
    {
     "data": {
      "text/plain": [
       "array(['GasA', 'GasW', 'Grav', 'Wall', 'OthW', 'Floor'], dtype=object)"
      ]
     },
     "execution_count": 10,
     "metadata": {},
     "output_type": "execute_result"
    }
   ],
   "source": [
    "df.Heating.unique()"
   ]
  },
  {
   "cell_type": "markdown",
   "id": "a5f0e428-4306-431c-a828-2873635e705e",
   "metadata": {},
   "source": [
    "Not a single categorical feature is 100% ordinal, therefore we will use One hot encoding for them."
   ]
  },
  {
   "cell_type": "markdown",
   "id": "d7754a79-4def-408c-bdce-02042f5547ee",
   "metadata": {},
   "source": [
    "## Do we have some missing values?"
   ]
  },
  {
   "cell_type": "code",
   "execution_count": 11,
   "id": "03bcb34b-f256-4526-a0e8-44a6ec4e3caa",
   "metadata": {},
   "outputs": [
    {
     "data": {
      "text/plain": [
       "MSSubClass      0\n",
       "BldgType        0\n",
       "HouseStyle      0\n",
       "OverallQual     0\n",
       "OverallCond     0\n",
       "YearBuilt       0\n",
       "Heating         0\n",
       "CentralAir      0\n",
       "GrLivArea       0\n",
       "BedroomAbvGr    0\n",
       "Target          0\n",
       "dtype: int64"
      ]
     },
     "execution_count": 11,
     "metadata": {},
     "output_type": "execute_result"
    }
   ],
   "source": [
    "df.isna().sum()"
   ]
  },
  {
   "cell_type": "code",
   "execution_count": 12,
   "id": "abaffdfb-5632-4d90-9d5f-2daca6586af0",
   "metadata": {},
   "outputs": [
    {
     "data": {
      "text/plain": [
       "(1460, 11)"
      ]
     },
     "execution_count": 12,
     "metadata": {},
     "output_type": "execute_result"
    }
   ],
   "source": [
    "df.shape"
   ]
  },
  {
   "cell_type": "markdown",
   "id": "c187faa0-dd7f-4103-a165-1ef4cdfba346",
   "metadata": {},
   "source": [
    "## Preprocessing"
   ]
  },
  {
   "cell_type": "code",
   "execution_count": 13,
   "id": "7f5f189c-1e8a-4896-b7de-68345057797d",
   "metadata": {},
   "outputs": [
    {
     "data": {
      "text/html": [
       "<div>\n",
       "<style scoped>\n",
       "    .dataframe tbody tr th:only-of-type {\n",
       "        vertical-align: middle;\n",
       "    }\n",
       "\n",
       "    .dataframe tbody tr th {\n",
       "        vertical-align: top;\n",
       "    }\n",
       "\n",
       "    .dataframe thead th {\n",
       "        text-align: right;\n",
       "    }\n",
       "</style>\n",
       "<table border=\"1\" class=\"dataframe\">\n",
       "  <thead>\n",
       "    <tr style=\"text-align: right;\">\n",
       "      <th></th>\n",
       "      <th>MSSubClass</th>\n",
       "      <th>OverallQual</th>\n",
       "      <th>OverallCond</th>\n",
       "      <th>YearBuilt</th>\n",
       "      <th>GrLivArea</th>\n",
       "      <th>BedroomAbvGr</th>\n",
       "      <th>Target</th>\n",
       "    </tr>\n",
       "  </thead>\n",
       "  <tbody>\n",
       "    <tr>\n",
       "      <th>0</th>\n",
       "      <td>0.073375</td>\n",
       "      <td>0.651479</td>\n",
       "      <td>-0.517200</td>\n",
       "      <td>1.050994</td>\n",
       "      <td>0.370333</td>\n",
       "      <td>0.163779</td>\n",
       "      <td>-0.417825</td>\n",
       "    </tr>\n",
       "    <tr>\n",
       "      <th>1</th>\n",
       "      <td>-0.872563</td>\n",
       "      <td>-0.071836</td>\n",
       "      <td>2.179628</td>\n",
       "      <td>0.156734</td>\n",
       "      <td>-0.482512</td>\n",
       "      <td>0.163779</td>\n",
       "      <td>-0.417825</td>\n",
       "    </tr>\n",
       "    <tr>\n",
       "      <th>2</th>\n",
       "      <td>0.073375</td>\n",
       "      <td>0.651479</td>\n",
       "      <td>-0.517200</td>\n",
       "      <td>0.984752</td>\n",
       "      <td>0.515013</td>\n",
       "      <td>0.163779</td>\n",
       "      <td>-0.417825</td>\n",
       "    </tr>\n",
       "    <tr>\n",
       "      <th>3</th>\n",
       "      <td>0.309859</td>\n",
       "      <td>0.651479</td>\n",
       "      <td>-0.517200</td>\n",
       "      <td>-1.863632</td>\n",
       "      <td>0.383659</td>\n",
       "      <td>0.163779</td>\n",
       "      <td>-0.417825</td>\n",
       "    </tr>\n",
       "    <tr>\n",
       "      <th>4</th>\n",
       "      <td>0.073375</td>\n",
       "      <td>1.374795</td>\n",
       "      <td>-0.517200</td>\n",
       "      <td>0.951632</td>\n",
       "      <td>1.299326</td>\n",
       "      <td>1.390023</td>\n",
       "      <td>-0.417825</td>\n",
       "    </tr>\n",
       "  </tbody>\n",
       "</table>\n",
       "</div>"
      ],
      "text/plain": [
       "   MSSubClass  OverallQual  OverallCond  YearBuilt  GrLivArea  BedroomAbvGr  \\\n",
       "0    0.073375     0.651479    -0.517200   1.050994   0.370333      0.163779   \n",
       "1   -0.872563    -0.071836     2.179628   0.156734  -0.482512      0.163779   \n",
       "2    0.073375     0.651479    -0.517200   0.984752   0.515013      0.163779   \n",
       "3    0.309859     0.651479    -0.517200  -1.863632   0.383659      0.163779   \n",
       "4    0.073375     1.374795    -0.517200   0.951632   1.299326      1.390023   \n",
       "\n",
       "     Target  \n",
       "0 -0.417825  \n",
       "1 -0.417825  \n",
       "2 -0.417825  \n",
       "3 -0.417825  \n",
       "4 -0.417825  "
      ]
     },
     "execution_count": 13,
     "metadata": {},
     "output_type": "execute_result"
    }
   ],
   "source": [
    "preprocessing = StandardScaler()\n",
    "df_preprocess = pd.DataFrame(preprocessing.fit_transform(df_numerical), columns=df_numerical.columns)\n",
    "df_preprocess.head()"
   ]
  },
  {
   "cell_type": "code",
   "execution_count": 14,
   "id": "d1f86095-f702-4c5c-96e6-01707ddffdfc",
   "metadata": {},
   "outputs": [
    {
     "data": {
      "text/html": [
       "<div>\n",
       "<style scoped>\n",
       "    .dataframe tbody tr th:only-of-type {\n",
       "        vertical-align: middle;\n",
       "    }\n",
       "\n",
       "    .dataframe tbody tr th {\n",
       "        vertical-align: top;\n",
       "    }\n",
       "\n",
       "    .dataframe thead th {\n",
       "        text-align: right;\n",
       "    }\n",
       "</style>\n",
       "<table border=\"1\" class=\"dataframe\">\n",
       "  <thead>\n",
       "    <tr style=\"text-align: right;\">\n",
       "      <th></th>\n",
       "      <th>MSSubClass</th>\n",
       "      <th>OverallQual</th>\n",
       "      <th>OverallCond</th>\n",
       "      <th>YearBuilt</th>\n",
       "      <th>GrLivArea</th>\n",
       "      <th>BedroomAbvGr</th>\n",
       "      <th>Target</th>\n",
       "      <th>BldgType_1Fam</th>\n",
       "      <th>BldgType_2fmCon</th>\n",
       "      <th>BldgType_Duplex</th>\n",
       "      <th>...</th>\n",
       "      <th>HouseStyle_SFoyer</th>\n",
       "      <th>HouseStyle_SLvl</th>\n",
       "      <th>Heating_Floor</th>\n",
       "      <th>Heating_GasA</th>\n",
       "      <th>Heating_GasW</th>\n",
       "      <th>Heating_Grav</th>\n",
       "      <th>Heating_OthW</th>\n",
       "      <th>Heating_Wall</th>\n",
       "      <th>CentralAir_N</th>\n",
       "      <th>CentralAir_Y</th>\n",
       "    </tr>\n",
       "  </thead>\n",
       "  <tbody>\n",
       "    <tr>\n",
       "      <th>0</th>\n",
       "      <td>0.073375</td>\n",
       "      <td>0.651479</td>\n",
       "      <td>-0.517200</td>\n",
       "      <td>1.050994</td>\n",
       "      <td>0.370333</td>\n",
       "      <td>0.163779</td>\n",
       "      <td>-0.417825</td>\n",
       "      <td>1</td>\n",
       "      <td>0</td>\n",
       "      <td>0</td>\n",
       "      <td>...</td>\n",
       "      <td>0</td>\n",
       "      <td>0</td>\n",
       "      <td>0</td>\n",
       "      <td>1</td>\n",
       "      <td>0</td>\n",
       "      <td>0</td>\n",
       "      <td>0</td>\n",
       "      <td>0</td>\n",
       "      <td>0</td>\n",
       "      <td>1</td>\n",
       "    </tr>\n",
       "    <tr>\n",
       "      <th>1</th>\n",
       "      <td>-0.872563</td>\n",
       "      <td>-0.071836</td>\n",
       "      <td>2.179628</td>\n",
       "      <td>0.156734</td>\n",
       "      <td>-0.482512</td>\n",
       "      <td>0.163779</td>\n",
       "      <td>-0.417825</td>\n",
       "      <td>1</td>\n",
       "      <td>0</td>\n",
       "      <td>0</td>\n",
       "      <td>...</td>\n",
       "      <td>0</td>\n",
       "      <td>0</td>\n",
       "      <td>0</td>\n",
       "      <td>1</td>\n",
       "      <td>0</td>\n",
       "      <td>0</td>\n",
       "      <td>0</td>\n",
       "      <td>0</td>\n",
       "      <td>0</td>\n",
       "      <td>1</td>\n",
       "    </tr>\n",
       "    <tr>\n",
       "      <th>2</th>\n",
       "      <td>0.073375</td>\n",
       "      <td>0.651479</td>\n",
       "      <td>-0.517200</td>\n",
       "      <td>0.984752</td>\n",
       "      <td>0.515013</td>\n",
       "      <td>0.163779</td>\n",
       "      <td>-0.417825</td>\n",
       "      <td>1</td>\n",
       "      <td>0</td>\n",
       "      <td>0</td>\n",
       "      <td>...</td>\n",
       "      <td>0</td>\n",
       "      <td>0</td>\n",
       "      <td>0</td>\n",
       "      <td>1</td>\n",
       "      <td>0</td>\n",
       "      <td>0</td>\n",
       "      <td>0</td>\n",
       "      <td>0</td>\n",
       "      <td>0</td>\n",
       "      <td>1</td>\n",
       "    </tr>\n",
       "    <tr>\n",
       "      <th>3</th>\n",
       "      <td>0.309859</td>\n",
       "      <td>0.651479</td>\n",
       "      <td>-0.517200</td>\n",
       "      <td>-1.863632</td>\n",
       "      <td>0.383659</td>\n",
       "      <td>0.163779</td>\n",
       "      <td>-0.417825</td>\n",
       "      <td>1</td>\n",
       "      <td>0</td>\n",
       "      <td>0</td>\n",
       "      <td>...</td>\n",
       "      <td>0</td>\n",
       "      <td>0</td>\n",
       "      <td>0</td>\n",
       "      <td>1</td>\n",
       "      <td>0</td>\n",
       "      <td>0</td>\n",
       "      <td>0</td>\n",
       "      <td>0</td>\n",
       "      <td>0</td>\n",
       "      <td>1</td>\n",
       "    </tr>\n",
       "    <tr>\n",
       "      <th>4</th>\n",
       "      <td>0.073375</td>\n",
       "      <td>1.374795</td>\n",
       "      <td>-0.517200</td>\n",
       "      <td>0.951632</td>\n",
       "      <td>1.299326</td>\n",
       "      <td>1.390023</td>\n",
       "      <td>-0.417825</td>\n",
       "      <td>1</td>\n",
       "      <td>0</td>\n",
       "      <td>0</td>\n",
       "      <td>...</td>\n",
       "      <td>0</td>\n",
       "      <td>0</td>\n",
       "      <td>0</td>\n",
       "      <td>1</td>\n",
       "      <td>0</td>\n",
       "      <td>0</td>\n",
       "      <td>0</td>\n",
       "      <td>0</td>\n",
       "      <td>0</td>\n",
       "      <td>1</td>\n",
       "    </tr>\n",
       "  </tbody>\n",
       "</table>\n",
       "<p>5 rows × 28 columns</p>\n",
       "</div>"
      ],
      "text/plain": [
       "   MSSubClass  OverallQual  OverallCond  YearBuilt  GrLivArea  BedroomAbvGr  \\\n",
       "0    0.073375     0.651479    -0.517200   1.050994   0.370333      0.163779   \n",
       "1   -0.872563    -0.071836     2.179628   0.156734  -0.482512      0.163779   \n",
       "2    0.073375     0.651479    -0.517200   0.984752   0.515013      0.163779   \n",
       "3    0.309859     0.651479    -0.517200  -1.863632   0.383659      0.163779   \n",
       "4    0.073375     1.374795    -0.517200   0.951632   1.299326      1.390023   \n",
       "\n",
       "     Target  BldgType_1Fam  BldgType_2fmCon  BldgType_Duplex  ...  \\\n",
       "0 -0.417825              1                0                0  ...   \n",
       "1 -0.417825              1                0                0  ...   \n",
       "2 -0.417825              1                0                0  ...   \n",
       "3 -0.417825              1                0                0  ...   \n",
       "4 -0.417825              1                0                0  ...   \n",
       "\n",
       "   HouseStyle_SFoyer  HouseStyle_SLvl  Heating_Floor  Heating_GasA  \\\n",
       "0                  0                0              0             1   \n",
       "1                  0                0              0             1   \n",
       "2                  0                0              0             1   \n",
       "3                  0                0              0             1   \n",
       "4                  0                0              0             1   \n",
       "\n",
       "   Heating_GasW  Heating_Grav  Heating_OthW  Heating_Wall  CentralAir_N  \\\n",
       "0             0             0             0             0             0   \n",
       "1             0             0             0             0             0   \n",
       "2             0             0             0             0             0   \n",
       "3             0             0             0             0             0   \n",
       "4             0             0             0             0             0   \n",
       "\n",
       "   CentralAir_Y  \n",
       "0             1  \n",
       "1             1  \n",
       "2             1  \n",
       "3             1  \n",
       "4             1  \n",
       "\n",
       "[5 rows x 28 columns]"
      ]
     },
     "execution_count": 14,
     "metadata": {},
     "output_type": "execute_result"
    }
   ],
   "source": [
    "df_preprocess = df_preprocess.join(pd.get_dummies(df[['BldgType', 'HouseStyle', 'Heating', 'CentralAir']]))\n",
    "df_preprocess.head()"
   ]
  },
  {
   "cell_type": "code",
   "execution_count": 15,
   "id": "63b8619f-5b3e-4a94-8bd9-669a77c91f70",
   "metadata": {},
   "outputs": [
    {
     "data": {
      "text/plain": [
       "(1460, 27)"
      ]
     },
     "execution_count": 15,
     "metadata": {},
     "output_type": "execute_result"
    }
   ],
   "source": [
    "X = df_preprocess.drop('Target', axis=1)\n",
    "X.shape"
   ]
  },
  {
   "cell_type": "code",
   "execution_count": 16,
   "id": "21660b37-8522-4958-b2cb-2b408ba27957",
   "metadata": {},
   "outputs": [
    {
     "data": {
      "text/plain": [
       "(1460,)"
      ]
     },
     "execution_count": 16,
     "metadata": {},
     "output_type": "execute_result"
    }
   ],
   "source": [
    "y = df.Target\n",
    "y.shape"
   ]
  },
  {
   "cell_type": "code",
   "execution_count": 17,
   "id": "4461a8a7-36fc-413d-baaf-2705dba568e9",
   "metadata": {},
   "outputs": [
    {
     "data": {
      "text/plain": [
       "0    1243\n",
       "1     217\n",
       "Name: Target, dtype: int64"
      ]
     },
     "execution_count": 17,
     "metadata": {},
     "output_type": "execute_result"
    }
   ],
   "source": [
    "y.value_counts()"
   ]
  },
  {
   "cell_type": "markdown",
   "id": "57500799-95e1-4940-8a3f-b7db7e9fdd7d",
   "metadata": {},
   "source": [
    "## Decision tree"
   ]
  },
  {
   "cell_type": "code",
   "execution_count": 19,
   "id": "6ab33f07-f970-4b8c-84c5-89e6e6a73f57",
   "metadata": {},
   "outputs": [],
   "source": [
    "def evaluate_classifier(clf, X, y):\n",
    "    skf = StratifiedKFold(n_splits=5)\n",
    "    scores = list()\n",
    "    for train_index, test_index in skf.split(X, y):\n",
    "        X_train, X_test = X.iloc[train_index, :], X.iloc[test_index, :]\n",
    "        y_train, y_test = y.iloc[train_index], y.iloc[test_index]\n",
    "        clf.fit(X_train, y_train)\n",
    "        y_pred = clf.predict(X_test)\n",
    "        scores.append(f1_score(y_test, y_pred))\n",
    "\n",
    "    return np.mean(scores), np.std(scores), scores"
   ]
  },
  {
   "cell_type": "code",
   "execution_count": 20,
   "id": "d0800f48-31ec-48d0-8d54-ce6e8a41b672",
   "metadata": {},
   "outputs": [
    {
     "data": {
      "text/plain": [
       "(0.6960410902733001,\n",
       " 0.06252070302774713,\n",
       " [0.6593406593406593,\n",
       "  0.7857142857142858,\n",
       "  0.6,\n",
       "  0.7191011235955056,\n",
       "  0.7160493827160493])"
      ]
     },
     "execution_count": 20,
     "metadata": {},
     "output_type": "execute_result"
    }
   ],
   "source": [
    "clf = DecisionTreeClassifier()\n",
    "evaluate_classifier(clf, X, y)"
   ]
  },
  {
   "cell_type": "code",
   "execution_count": 27,
   "id": "ef0330cb-07c3-49d5-a167-a800a2f18fd8",
   "metadata": {},
   "outputs": [
    {
     "data": {
      "text/plain": [
       "(0.734240782101194,\n",
       " 0.06554986364343286,\n",
       " [0.6739130434782609,\n",
       "  0.7894736842105263,\n",
       "  0.7749999999999999,\n",
       "  0.7954545454545455,\n",
       "  0.6373626373626374])"
      ]
     },
     "execution_count": 27,
     "metadata": {},
     "output_type": "execute_result"
    }
   ],
   "source": [
    "#dochází k přeučení když není omezený na maximální hloubku | porovnání s předchozím\n",
    "clf = DecisionTreeClassifier(max_depth=4)\n",
    "evaluate_classifier(clf, X, y)"
   ]
  },
  {
   "cell_type": "markdown",
   "id": "31815805-f78c-4e53-b4f7-2e350e62d25c",
   "metadata": {},
   "source": [
    "## Random forest \n",
    "\n",
    "- každý strom pracuje s jinými atributy (každý strom se vytvoří jinak)\n",
    "- každý to vyhodnotí, a vezme se nejčetnější výsledek"
   ]
  },
  {
   "cell_type": "code",
   "execution_count": 22,
   "id": "0ec921c3-3f98-4b7e-895e-87c09a2c70f7",
   "metadata": {},
   "outputs": [
    {
     "data": {
      "text/plain": [
       "(0.7480796884076603,\n",
       " 0.05268576578537835,\n",
       " [0.7126436781609196,\n",
       "  0.8235294117647058,\n",
       "  0.7042253521126761,\n",
       "  0.7999999999999999,\n",
       "  0.7000000000000001])"
      ]
     },
     "execution_count": 22,
     "metadata": {},
     "output_type": "execute_result"
    }
   ],
   "source": [
    "clf = RandomForestClassifier(n_estimators=50)\n",
    "evaluate_classifier(clf, X, y)"
   ]
  },
  {
   "cell_type": "code",
   "execution_count": 28,
   "id": "a17dd6e2-34ef-4710-b286-b57bbfc0d9cd",
   "metadata": {},
   "outputs": [
    {
     "data": {
      "text/plain": [
       "<AxesSubplot:>"
      ]
     },
     "execution_count": 28,
     "metadata": {},
     "output_type": "execute_result"
    },
    {
     "data": {
      "image/png": "[encoded data removed]",
      "text/plain": [
       "<Figure size 432x288 with 1 Axes>"
      ]
     },
     "metadata": {
      "needs_background": "light"
     },
     "output_type": "display_data"
    }
   ],
   "source": [
    "sns.barplot(x=clf.feature_importances_, y=X.columns)"
   ]
  },
  {
   "cell_type": "code",
   "execution_count": 31,
   "id": "401fade2-977b-4818-bcb0-82ac8626bb21",
   "metadata": {},
   "outputs": [
    {
     "data": {
      "text/plain": [
       "(0.7577302988949576,\n",
       " 0.04301040822447893,\n",
       " [0.7045454545454545,\n",
       "  0.8192771084337349,\n",
       "  0.7567567567567568,\n",
       "  0.7901234567901235,\n",
       "  0.717948717948718])"
      ]
     },
     "execution_count": 31,
     "metadata": {},
     "output_type": "execute_result"
    }
   ],
   "source": [
    "clf = RandomForestClassifier(n_estimators=50)\n",
    "evaluate_classifier(clf, X, y)"
   ]
  },
  {
   "cell_type": "code",
   "execution_count": 33,
   "id": "470c6410-872e-44d0-b6db-2ffd44eb0261",
   "metadata": {},
   "outputs": [
    {
     "data": {
      "text/plain": [
       "(0.7472328888029613,\n",
       " 0.049234987489238,\n",
       " [0.6923076923076923,\n",
       "  0.7733333333333334,\n",
       "  0.7323943661971831,\n",
       "  0.8292682926829269,\n",
       "  0.7088607594936709])"
      ]
     },
     "execution_count": 33,
     "metadata": {},
     "output_type": "execute_result"
    }
   ],
   "source": [
    "clf = RandomForestClassifier(n_estimators=200, max_depth=5)\n",
    "evaluate_classifier(clf, X, y)"
   ]
  },
  {
   "cell_type": "markdown",
   "id": "9f3d9a48-631c-4380-9553-24a94b2951e8",
   "metadata": {},
   "source": [
    "## AdaBoost\n",
    "\n",
    "- Boosting, přidává váhu těm které mi předtím nešli"
   ]
  },
  {
   "cell_type": "code",
   "execution_count": 34,
   "id": "32dd88dd-ca55-4f30-88e5-bd4a2a09dab0",
   "metadata": {},
   "outputs": [
    {
     "name": "stderr",
     "output_type": "stream",
     "text": [
      "c:\\users\\proko\\appdata\\local\\programs\\python\\python38-32\\lib\\site-packages\\sklearn\\base.py:441: UserWarning: X does not have valid feature names, but AdaBoostClassifier was fitted with feature names\n",
      "  warnings.warn(\n",
      "c:\\users\\proko\\appdata\\local\\programs\\python\\python38-32\\lib\\site-packages\\sklearn\\base.py:441: UserWarning: X does not have valid feature names, but AdaBoostClassifier was fitted with feature names\n",
      "  warnings.warn(\n",
      "c:\\users\\proko\\appdata\\local\\programs\\python\\python38-32\\lib\\site-packages\\sklearn\\base.py:441: UserWarning: X does not have valid feature names, but AdaBoostClassifier was fitted with feature names\n",
      "  warnings.warn(\n",
      "c:\\users\\proko\\appdata\\local\\programs\\python\\python38-32\\lib\\site-packages\\sklearn\\base.py:441: UserWarning: X does not have valid feature names, but AdaBoostClassifier was fitted with feature names\n",
      "  warnings.warn(\n",
      "c:\\users\\proko\\appdata\\local\\programs\\python\\python38-32\\lib\\site-packages\\sklearn\\base.py:441: UserWarning: X does not have valid feature names, but AdaBoostClassifier was fitted with feature names\n",
      "  warnings.warn(\n"
     ]
    },
    {
     "data": {
      "text/plain": [
       "(0.7294726522907097,\n",
       " 0.03373218726917604,\n",
       " [0.6818181818181818,\n",
       "  0.7012987012987012,\n",
       "  0.7435897435897435,\n",
       "  0.7764705882352942,\n",
       "  0.7441860465116279])"
      ]
     },
     "execution_count": 34,
     "metadata": {},
     "output_type": "execute_result"
    }
   ],
   "source": [
    "clf = AdaBoostClassifier(n_estimators=10)\n",
    "evaluate_classifier(clf, X, y)"
   ]
  },
  {
   "cell_type": "code",
   "execution_count": 35,
   "id": "3daf0d12-cca7-4749-894f-2811ba86f1f1",
   "metadata": {},
   "outputs": [
    {
     "name": "stderr",
     "output_type": "stream",
     "text": [
      "c:\\users\\proko\\appdata\\local\\programs\\python\\python38-32\\lib\\site-packages\\sklearn\\base.py:441: UserWarning: X does not have valid feature names, but AdaBoostClassifier was fitted with feature names\n",
      "  warnings.warn(\n",
      "c:\\users\\proko\\appdata\\local\\programs\\python\\python38-32\\lib\\site-packages\\sklearn\\base.py:441: UserWarning: X does not have valid feature names, but AdaBoostClassifier was fitted with feature names\n",
      "  warnings.warn(\n",
      "c:\\users\\proko\\appdata\\local\\programs\\python\\python38-32\\lib\\site-packages\\sklearn\\base.py:441: UserWarning: X does not have valid feature names, but AdaBoostClassifier was fitted with feature names\n",
      "  warnings.warn(\n",
      "c:\\users\\proko\\appdata\\local\\programs\\python\\python38-32\\lib\\site-packages\\sklearn\\base.py:441: UserWarning: X does not have valid feature names, but AdaBoostClassifier was fitted with feature names\n",
      "  warnings.warn(\n",
      "c:\\users\\proko\\appdata\\local\\programs\\python\\python38-32\\lib\\site-packages\\sklearn\\base.py:441: UserWarning: X does not have valid feature names, but AdaBoostClassifier was fitted with feature names\n",
      "  warnings.warn(\n"
     ]
    },
    {
     "data": {
      "text/plain": [
       "(0.7792565340797555,\n",
       " 0.0382938138539665,\n",
       " [0.7380952380952381,\n",
       "  0.8148148148148148,\n",
       "  0.7341772151898734,\n",
       "  0.8275862068965518,\n",
       "  0.7816091954022988])"
      ]
     },
     "execution_count": 35,
     "metadata": {},
     "output_type": "execute_result"
    }
   ],
   "source": [
    "clf = AdaBoostClassifier(n_estimators=50)\n",
    "evaluate_classifier(clf, X, y)"
   ]
  },
  {
   "cell_type": "code",
   "execution_count": 36,
   "id": "89c67000-78e9-4b98-a5a0-943032a18b2b",
   "metadata": {},
   "outputs": [
    {
     "name": "stderr",
     "output_type": "stream",
     "text": [
      "c:\\users\\proko\\appdata\\local\\programs\\python\\python38-32\\lib\\site-packages\\sklearn\\base.py:441: UserWarning: X does not have valid feature names, but AdaBoostClassifier was fitted with feature names\n",
      "  warnings.warn(\n",
      "c:\\users\\proko\\appdata\\local\\programs\\python\\python38-32\\lib\\site-packages\\sklearn\\base.py:441: UserWarning: X does not have valid feature names, but AdaBoostClassifier was fitted with feature names\n",
      "  warnings.warn(\n",
      "c:\\users\\proko\\appdata\\local\\programs\\python\\python38-32\\lib\\site-packages\\sklearn\\base.py:441: UserWarning: X does not have valid feature names, but AdaBoostClassifier was fitted with feature names\n",
      "  warnings.warn(\n",
      "c:\\users\\proko\\appdata\\local\\programs\\python\\python38-32\\lib\\site-packages\\sklearn\\base.py:441: UserWarning: X does not have valid feature names, but AdaBoostClassifier was fitted with feature names\n",
      "  warnings.warn(\n",
      "c:\\users\\proko\\appdata\\local\\programs\\python\\python38-32\\lib\\site-packages\\sklearn\\base.py:441: UserWarning: X does not have valid feature names, but AdaBoostClassifier was fitted with feature names\n",
      "  warnings.warn(\n"
     ]
    },
    {
     "data": {
      "text/plain": [
       "(0.7336845767994347,\n",
       " 0.057195934811583714,\n",
       " [0.6744186046511628,\n",
       "  0.8275862068965518,\n",
       "  0.6829268292682927,\n",
       "  0.7674418604651163,\n",
       "  0.7160493827160493])"
      ]
     },
     "execution_count": 36,
     "metadata": {},
     "output_type": "execute_result"
    }
   ],
   "source": [
    "clf = AdaBoostClassifier(base_estimator=DecisionTreeClassifier(max_depth=2) , n_estimators=50)\n",
    "evaluate_classifier(clf, X, y)"
   ]
  },
  {
   "cell_type": "code",
   "execution_count": 37,
   "id": "2a09feff-4713-4155-a82f-c05a2fe0808a",
   "metadata": {},
   "outputs": [
    {
     "name": "stderr",
     "output_type": "stream",
     "text": [
      "c:\\users\\proko\\appdata\\local\\programs\\python\\python38-32\\lib\\site-packages\\sklearn\\base.py:441: UserWarning: X does not have valid feature names, but AdaBoostClassifier was fitted with feature names\n",
      "  warnings.warn(\n",
      "c:\\users\\proko\\appdata\\local\\programs\\python\\python38-32\\lib\\site-packages\\sklearn\\base.py:441: UserWarning: X does not have valid feature names, but AdaBoostClassifier was fitted with feature names\n",
      "  warnings.warn(\n",
      "c:\\users\\proko\\appdata\\local\\programs\\python\\python38-32\\lib\\site-packages\\sklearn\\base.py:441: UserWarning: X does not have valid feature names, but AdaBoostClassifier was fitted with feature names\n",
      "  warnings.warn(\n",
      "c:\\users\\proko\\appdata\\local\\programs\\python\\python38-32\\lib\\site-packages\\sklearn\\base.py:441: UserWarning: X does not have valid feature names, but AdaBoostClassifier was fitted with feature names\n",
      "  warnings.warn(\n",
      "c:\\users\\proko\\appdata\\local\\programs\\python\\python38-32\\lib\\site-packages\\sklearn\\base.py:441: UserWarning: X does not have valid feature names, but AdaBoostClassifier was fitted with feature names\n",
      "  warnings.warn(\n"
     ]
    },
    {
     "data": {
      "text/plain": [
       "(0.5889647960525493,\n",
       " 0.06459455656074403,\n",
       " [0.46428571428571425,\n",
       "  0.6363636363636364,\n",
       "  0.5901639344262295,\n",
       "  0.6363636363636365,\n",
       "  0.6176470588235294])"
      ]
     },
     "execution_count": 37,
     "metadata": {},
     "output_type": "execute_result"
    }
   ],
   "source": [
    "clf = AdaBoostClassifier(base_estimator=LogisticRegression(), n_estimators=10)\n",
    "evaluate_classifier(clf, X, y)"
   ]
  },
  {
   "cell_type": "code",
   "execution_count": 39,
   "id": "03b11f63-6fb4-40e2-8a6d-af98ceb42fcf",
   "metadata": {},
   "outputs": [
    {
     "name": "stderr",
     "output_type": "stream",
     "text": [
      "c:\\users\\proko\\appdata\\local\\programs\\python\\python38-32\\lib\\site-packages\\sklearn\\base.py:441: UserWarning: X does not have valid feature names, but AdaBoostClassifier was fitted with feature names\n",
      "  warnings.warn(\n",
      "c:\\users\\proko\\appdata\\local\\programs\\python\\python38-32\\lib\\site-packages\\sklearn\\base.py:441: UserWarning: X does not have valid feature names, but AdaBoostClassifier was fitted with feature names\n",
      "  warnings.warn(\n",
      "c:\\users\\proko\\appdata\\local\\programs\\python\\python38-32\\lib\\site-packages\\sklearn\\base.py:441: UserWarning: X does not have valid feature names, but AdaBoostClassifier was fitted with feature names\n",
      "  warnings.warn(\n",
      "c:\\users\\proko\\appdata\\local\\programs\\python\\python38-32\\lib\\site-packages\\sklearn\\base.py:441: UserWarning: X does not have valid feature names, but AdaBoostClassifier was fitted with feature names\n",
      "  warnings.warn(\n",
      "c:\\users\\proko\\appdata\\local\\programs\\python\\python38-32\\lib\\site-packages\\sklearn\\base.py:441: UserWarning: X does not have valid feature names, but AdaBoostClassifier was fitted with feature names\n",
      "  warnings.warn(\n"
     ]
    },
    {
     "data": {
      "text/plain": [
       "(0.6946156416682733,\n",
       " 0.030419246410020775,\n",
       " [0.6388888888888888,\n",
       "  0.72,\n",
       "  0.6857142857142857,\n",
       "  0.717948717948718,\n",
       "  0.7105263157894737])"
      ]
     },
     "execution_count": 39,
     "metadata": {},
     "output_type": "execute_result"
    }
   ],
   "source": [
    "clf = AdaBoostClassifier(base_estimator=LogisticRegression(), n_estimators=50)\n",
    "evaluate_classifier(clf, X, y)"
   ]
  },
  {
   "cell_type": "markdown",
   "id": "eeb4100c-4715-426d-9e49-ce7a749633f3",
   "metadata": {},
   "source": [
    "## Gradient boosting trees"
   ]
  },
  {
   "cell_type": "code",
   "execution_count": 40,
   "id": "a6bff653-920e-434a-b409-584d7f2ec213",
   "metadata": {},
   "outputs": [
    {
     "data": {
      "text/plain": [
       "(0.7553414193281534,\n",
       " 0.048522564495609564,\n",
       " [0.7058823529411765,\n",
       "  0.8275862068965518,\n",
       "  0.7407407407407408,\n",
       "  0.7951807228915662,\n",
       "  0.7073170731707317])"
      ]
     },
     "execution_count": 40,
     "metadata": {},
     "output_type": "execute_result"
    }
   ],
   "source": [
    "clf = HistGradientBoostingClassifier()\n",
    "evaluate_classifier(clf, X, y)"
   ]
  },
  {
   "cell_type": "markdown",
   "id": "8026f292-1f6f-44b8-a0c9-7faa62041f45",
   "metadata": {},
   "source": [
    "## K-NN classifier"
   ]
  },
  {
   "cell_type": "code",
   "execution_count": 41,
   "id": "8a2ca6cb-2a01-42db-86f5-065283051c14",
   "metadata": {},
   "outputs": [
    {
     "name": "stderr",
     "output_type": "stream",
     "text": [
      "c:\\users\\proko\\appdata\\local\\programs\\python\\python38-32\\lib\\site-packages\\sklearn\\base.py:441: UserWarning: X does not have valid feature names, but KNeighborsClassifier was fitted with feature names\n",
      "  warnings.warn(\n",
      "c:\\users\\proko\\appdata\\local\\programs\\python\\python38-32\\lib\\site-packages\\sklearn\\base.py:441: UserWarning: X does not have valid feature names, but KNeighborsClassifier was fitted with feature names\n",
      "  warnings.warn(\n",
      "c:\\users\\proko\\appdata\\local\\programs\\python\\python38-32\\lib\\site-packages\\sklearn\\base.py:441: UserWarning: X does not have valid feature names, but KNeighborsClassifier was fitted with feature names\n",
      "  warnings.warn(\n",
      "c:\\users\\proko\\appdata\\local\\programs\\python\\python38-32\\lib\\site-packages\\sklearn\\base.py:441: UserWarning: X does not have valid feature names, but KNeighborsClassifier was fitted with feature names\n",
      "  warnings.warn(\n",
      "c:\\users\\proko\\appdata\\local\\programs\\python\\python38-32\\lib\\site-packages\\sklearn\\base.py:441: UserWarning: X does not have valid feature names, but KNeighborsClassifier was fitted with feature names\n",
      "  warnings.warn(\n"
     ]
    },
    {
     "data": {
      "text/plain": [
       "(0.7389676723454205,\n",
       " 0.05847427868851093,\n",
       " [0.6666666666666666,\n",
       "  0.7894736842105263,\n",
       "  0.7532467532467532,\n",
       "  0.810126582278481,\n",
       "  0.6753246753246752])"
      ]
     },
     "execution_count": 41,
     "metadata": {},
     "output_type": "execute_result"
    }
   ],
   "source": [
    "clf = KNeighborsClassifier(n_neighbors=10)\n",
    "evaluate_classifier(clf, X, y)"
   ]
  },
  {
   "cell_type": "markdown",
   "id": "7620d037-805b-4a68-a401-aa2f51e81f3d",
   "metadata": {},
   "source": [
    "## Stacking"
   ]
  },
  {
   "cell_type": "code",
   "execution_count": 42,
   "id": "00e0a717-77a8-43f3-8b54-3615d18dc3b3",
   "metadata": {},
   "outputs": [
    {
     "name": "stderr",
     "output_type": "stream",
     "text": [
      "c:\\users\\proko\\appdata\\local\\programs\\python\\python38-32\\lib\\site-packages\\sklearn\\base.py:441: UserWarning: X does not have valid feature names, but AdaBoostClassifier was fitted with feature names\n",
      "  warnings.warn(\n",
      "c:\\users\\proko\\appdata\\local\\programs\\python\\python38-32\\lib\\site-packages\\sklearn\\base.py:441: UserWarning: X does not have valid feature names, but AdaBoostClassifier was fitted with feature names\n",
      "  warnings.warn(\n",
      "c:\\users\\proko\\appdata\\local\\programs\\python\\python38-32\\lib\\site-packages\\sklearn\\base.py:441: UserWarning: X does not have valid feature names, but AdaBoostClassifier was fitted with feature names\n",
      "  warnings.warn(\n",
      "c:\\users\\proko\\appdata\\local\\programs\\python\\python38-32\\lib\\site-packages\\sklearn\\base.py:441: UserWarning: X does not have valid feature names, but AdaBoostClassifier was fitted with feature names\n",
      "  warnings.warn(\n",
      "c:\\users\\proko\\appdata\\local\\programs\\python\\python38-32\\lib\\site-packages\\sklearn\\base.py:441: UserWarning: X does not have valid feature names, but AdaBoostClassifier was fitted with feature names\n",
      "  warnings.warn(\n",
      "c:\\users\\proko\\appdata\\local\\programs\\python\\python38-32\\lib\\site-packages\\sklearn\\base.py:441: UserWarning: X does not have valid feature names, but AdaBoostClassifier was fitted with feature names\n",
      "  warnings.warn(\n",
      "c:\\users\\proko\\appdata\\local\\programs\\python\\python38-32\\lib\\site-packages\\sklearn\\base.py:441: UserWarning: X does not have valid feature names, but AdaBoostClassifier was fitted with feature names\n",
      "  warnings.warn(\n",
      "c:\\users\\proko\\appdata\\local\\programs\\python\\python38-32\\lib\\site-packages\\sklearn\\base.py:441: UserWarning: X does not have valid feature names, but AdaBoostClassifier was fitted with feature names\n",
      "  warnings.warn(\n",
      "c:\\users\\proko\\appdata\\local\\programs\\python\\python38-32\\lib\\site-packages\\sklearn\\base.py:441: UserWarning: X does not have valid feature names, but AdaBoostClassifier was fitted with feature names\n",
      "  warnings.warn(\n",
      "c:\\users\\proko\\appdata\\local\\programs\\python\\python38-32\\lib\\site-packages\\sklearn\\base.py:441: UserWarning: X does not have valid feature names, but AdaBoostClassifier was fitted with feature names\n",
      "  warnings.warn(\n",
      "c:\\users\\proko\\appdata\\local\\programs\\python\\python38-32\\lib\\site-packages\\sklearn\\base.py:441: UserWarning: X does not have valid feature names, but AdaBoostClassifier was fitted with feature names\n",
      "  warnings.warn(\n",
      "c:\\users\\proko\\appdata\\local\\programs\\python\\python38-32\\lib\\site-packages\\sklearn\\base.py:441: UserWarning: X does not have valid feature names, but AdaBoostClassifier was fitted with feature names\n",
      "  warnings.warn(\n",
      "c:\\users\\proko\\appdata\\local\\programs\\python\\python38-32\\lib\\site-packages\\sklearn\\base.py:441: UserWarning: X does not have valid feature names, but AdaBoostClassifier was fitted with feature names\n",
      "  warnings.warn(\n",
      "c:\\users\\proko\\appdata\\local\\programs\\python\\python38-32\\lib\\site-packages\\sklearn\\base.py:441: UserWarning: X does not have valid feature names, but AdaBoostClassifier was fitted with feature names\n",
      "  warnings.warn(\n",
      "c:\\users\\proko\\appdata\\local\\programs\\python\\python38-32\\lib\\site-packages\\sklearn\\base.py:441: UserWarning: X does not have valid feature names, but AdaBoostClassifier was fitted with feature names\n",
      "  warnings.warn(\n",
      "c:\\users\\proko\\appdata\\local\\programs\\python\\python38-32\\lib\\site-packages\\sklearn\\base.py:441: UserWarning: X does not have valid feature names, but AdaBoostClassifier was fitted with feature names\n",
      "  warnings.warn(\n",
      "c:\\users\\proko\\appdata\\local\\programs\\python\\python38-32\\lib\\site-packages\\sklearn\\base.py:441: UserWarning: X does not have valid feature names, but AdaBoostClassifier was fitted with feature names\n",
      "  warnings.warn(\n",
      "c:\\users\\proko\\appdata\\local\\programs\\python\\python38-32\\lib\\site-packages\\sklearn\\base.py:441: UserWarning: X does not have valid feature names, but AdaBoostClassifier was fitted with feature names\n",
      "  warnings.warn(\n",
      "c:\\users\\proko\\appdata\\local\\programs\\python\\python38-32\\lib\\site-packages\\sklearn\\base.py:441: UserWarning: X does not have valid feature names, but AdaBoostClassifier was fitted with feature names\n",
      "  warnings.warn(\n",
      "c:\\users\\proko\\appdata\\local\\programs\\python\\python38-32\\lib\\site-packages\\sklearn\\base.py:441: UserWarning: X does not have valid feature names, but AdaBoostClassifier was fitted with feature names\n",
      "  warnings.warn(\n",
      "c:\\users\\proko\\appdata\\local\\programs\\python\\python38-32\\lib\\site-packages\\sklearn\\base.py:441: UserWarning: X does not have valid feature names, but AdaBoostClassifier was fitted with feature names\n",
      "  warnings.warn(\n",
      "c:\\users\\proko\\appdata\\local\\programs\\python\\python38-32\\lib\\site-packages\\sklearn\\base.py:441: UserWarning: X does not have valid feature names, but AdaBoostClassifier was fitted with feature names\n",
      "  warnings.warn(\n",
      "c:\\users\\proko\\appdata\\local\\programs\\python\\python38-32\\lib\\site-packages\\sklearn\\base.py:441: UserWarning: X does not have valid feature names, but AdaBoostClassifier was fitted with feature names\n",
      "  warnings.warn(\n",
      "c:\\users\\proko\\appdata\\local\\programs\\python\\python38-32\\lib\\site-packages\\sklearn\\base.py:441: UserWarning: X does not have valid feature names, but AdaBoostClassifier was fitted with feature names\n",
      "  warnings.warn(\n",
      "c:\\users\\proko\\appdata\\local\\programs\\python\\python38-32\\lib\\site-packages\\sklearn\\base.py:441: UserWarning: X does not have valid feature names, but AdaBoostClassifier was fitted with feature names\n",
      "  warnings.warn(\n",
      "c:\\users\\proko\\appdata\\local\\programs\\python\\python38-32\\lib\\site-packages\\sklearn\\base.py:441: UserWarning: X does not have valid feature names, but AdaBoostClassifier was fitted with feature names\n",
      "  warnings.warn(\n",
      "c:\\users\\proko\\appdata\\local\\programs\\python\\python38-32\\lib\\site-packages\\sklearn\\base.py:441: UserWarning: X does not have valid feature names, but AdaBoostClassifier was fitted with feature names\n",
      "  warnings.warn(\n",
      "c:\\users\\proko\\appdata\\local\\programs\\python\\python38-32\\lib\\site-packages\\sklearn\\base.py:441: UserWarning: X does not have valid feature names, but AdaBoostClassifier was fitted with feature names\n",
      "  warnings.warn(\n",
      "c:\\users\\proko\\appdata\\local\\programs\\python\\python38-32\\lib\\site-packages\\sklearn\\base.py:441: UserWarning: X does not have valid feature names, but AdaBoostClassifier was fitted with feature names\n",
      "  warnings.warn(\n",
      "c:\\users\\proko\\appdata\\local\\programs\\python\\python38-32\\lib\\site-packages\\sklearn\\base.py:441: UserWarning: X does not have valid feature names, but AdaBoostClassifier was fitted with feature names\n",
      "  warnings.warn(\n"
     ]
    },
    {
     "data": {
      "text/plain": [
       "(0.7370676597885488,\n",
       " 0.048051006098329366,\n",
       " [0.7126436781609196,\n",
       "  0.8048780487804877,\n",
       "  0.7123287671232877,\n",
       "  0.7804878048780488,\n",
       "  0.6749999999999999])"
      ]
     },
     "execution_count": 42,
     "metadata": {},
     "output_type": "execute_result"
    }
   ],
   "source": [
    "clf = StackingClassifier(\n",
    "    estimators = [\n",
    "        ('rf', RandomForestClassifier(n_estimators=10)),\n",
    "        ('dt', DecisionTreeClassifier(max_depth=5)),\n",
    "        ('ada', AdaBoostClassifier(n_estimators=10))\n",
    "    ]\n",
    ")\n",
    "evaluate_classifier(clf, X, y)"
   ]
  },
  {
   "cell_type": "markdown",
   "id": "53a70873-47d7-45dd-9fc9-6d5078ffd01a",
   "metadata": {},
   "source": [
    "## Preprocessing 2"
   ]
  },
  {
   "cell_type": "code",
   "execution_count": 43,
   "id": "6f309ab5-ecb8-4dbd-9929-1cd4a6bcb287",
   "metadata": {},
   "outputs": [
    {
     "data": {
      "text/html": [
       "<div>\n",
       "<style scoped>\n",
       "    .dataframe tbody tr th:only-of-type {\n",
       "        vertical-align: middle;\n",
       "    }\n",
       "\n",
       "    .dataframe tbody tr th {\n",
       "        vertical-align: top;\n",
       "    }\n",
       "\n",
       "    .dataframe thead th {\n",
       "        text-align: right;\n",
       "    }\n",
       "</style>\n",
       "<table border=\"1\" class=\"dataframe\">\n",
       "  <thead>\n",
       "    <tr style=\"text-align: right;\">\n",
       "      <th></th>\n",
       "      <th>MSSubClass</th>\n",
       "      <th>OverallQual</th>\n",
       "      <th>OverallCond</th>\n",
       "      <th>YearBuilt</th>\n",
       "      <th>GrLivArea</th>\n",
       "      <th>BedroomAbvGr</th>\n",
       "      <th>Target</th>\n",
       "      <th>BldgType_1Fam</th>\n",
       "      <th>BldgType_2fmCon</th>\n",
       "      <th>BldgType_Duplex</th>\n",
       "      <th>...</th>\n",
       "      <th>HouseStyle_SFoyer</th>\n",
       "      <th>HouseStyle_SLvl</th>\n",
       "      <th>Heating_Floor</th>\n",
       "      <th>Heating_GasA</th>\n",
       "      <th>Heating_GasW</th>\n",
       "      <th>Heating_Grav</th>\n",
       "      <th>Heating_OthW</th>\n",
       "      <th>Heating_Wall</th>\n",
       "      <th>CentralAir_N</th>\n",
       "      <th>CentralAir_Y</th>\n",
       "    </tr>\n",
       "  </thead>\n",
       "  <tbody>\n",
       "    <tr>\n",
       "      <th>0</th>\n",
       "      <td>0.235294</td>\n",
       "      <td>0.666667</td>\n",
       "      <td>0.500</td>\n",
       "      <td>0.949275</td>\n",
       "      <td>0.259231</td>\n",
       "      <td>0.375</td>\n",
       "      <td>0.0</td>\n",
       "      <td>1</td>\n",
       "      <td>0</td>\n",
       "      <td>0</td>\n",
       "      <td>...</td>\n",
       "      <td>0</td>\n",
       "      <td>0</td>\n",
       "      <td>0</td>\n",
       "      <td>1</td>\n",
       "      <td>0</td>\n",
       "      <td>0</td>\n",
       "      <td>0</td>\n",
       "      <td>0</td>\n",
       "      <td>0</td>\n",
       "      <td>1</td>\n",
       "    </tr>\n",
       "    <tr>\n",
       "      <th>1</th>\n",
       "      <td>0.000000</td>\n",
       "      <td>0.555556</td>\n",
       "      <td>0.875</td>\n",
       "      <td>0.753623</td>\n",
       "      <td>0.174830</td>\n",
       "      <td>0.375</td>\n",
       "      <td>0.0</td>\n",
       "      <td>1</td>\n",
       "      <td>0</td>\n",
       "      <td>0</td>\n",
       "      <td>...</td>\n",
       "      <td>0</td>\n",
       "      <td>0</td>\n",
       "      <td>0</td>\n",
       "      <td>1</td>\n",
       "      <td>0</td>\n",
       "      <td>0</td>\n",
       "      <td>0</td>\n",
       "      <td>0</td>\n",
       "      <td>0</td>\n",
       "      <td>1</td>\n",
       "    </tr>\n",
       "    <tr>\n",
       "      <th>2</th>\n",
       "      <td>0.235294</td>\n",
       "      <td>0.666667</td>\n",
       "      <td>0.500</td>\n",
       "      <td>0.934783</td>\n",
       "      <td>0.273549</td>\n",
       "      <td>0.375</td>\n",
       "      <td>0.0</td>\n",
       "      <td>1</td>\n",
       "      <td>0</td>\n",
       "      <td>0</td>\n",
       "      <td>...</td>\n",
       "      <td>0</td>\n",
       "      <td>0</td>\n",
       "      <td>0</td>\n",
       "      <td>1</td>\n",
       "      <td>0</td>\n",
       "      <td>0</td>\n",
       "      <td>0</td>\n",
       "      <td>0</td>\n",
       "      <td>0</td>\n",
       "      <td>1</td>\n",
       "    </tr>\n",
       "    <tr>\n",
       "      <th>3</th>\n",
       "      <td>0.294118</td>\n",
       "      <td>0.666667</td>\n",
       "      <td>0.500</td>\n",
       "      <td>0.311594</td>\n",
       "      <td>0.260550</td>\n",
       "      <td>0.375</td>\n",
       "      <td>0.0</td>\n",
       "      <td>1</td>\n",
       "      <td>0</td>\n",
       "      <td>0</td>\n",
       "      <td>...</td>\n",
       "      <td>0</td>\n",
       "      <td>0</td>\n",
       "      <td>0</td>\n",
       "      <td>1</td>\n",
       "      <td>0</td>\n",
       "      <td>0</td>\n",
       "      <td>0</td>\n",
       "      <td>0</td>\n",
       "      <td>0</td>\n",
       "      <td>1</td>\n",
       "    </tr>\n",
       "    <tr>\n",
       "      <th>4</th>\n",
       "      <td>0.235294</td>\n",
       "      <td>0.777778</td>\n",
       "      <td>0.500</td>\n",
       "      <td>0.927536</td>\n",
       "      <td>0.351168</td>\n",
       "      <td>0.500</td>\n",
       "      <td>0.0</td>\n",
       "      <td>1</td>\n",
       "      <td>0</td>\n",
       "      <td>0</td>\n",
       "      <td>...</td>\n",
       "      <td>0</td>\n",
       "      <td>0</td>\n",
       "      <td>0</td>\n",
       "      <td>1</td>\n",
       "      <td>0</td>\n",
       "      <td>0</td>\n",
       "      <td>0</td>\n",
       "      <td>0</td>\n",
       "      <td>0</td>\n",
       "      <td>1</td>\n",
       "    </tr>\n",
       "  </tbody>\n",
       "</table>\n",
       "<p>5 rows × 28 columns</p>\n",
       "</div>"
      ],
      "text/plain": [
       "   MSSubClass  OverallQual  OverallCond  YearBuilt  GrLivArea  BedroomAbvGr  \\\n",
       "0    0.235294     0.666667        0.500   0.949275   0.259231         0.375   \n",
       "1    0.000000     0.555556        0.875   0.753623   0.174830         0.375   \n",
       "2    0.235294     0.666667        0.500   0.934783   0.273549         0.375   \n",
       "3    0.294118     0.666667        0.500   0.311594   0.260550         0.375   \n",
       "4    0.235294     0.777778        0.500   0.927536   0.351168         0.500   \n",
       "\n",
       "   Target  BldgType_1Fam  BldgType_2fmCon  BldgType_Duplex  ...  \\\n",
       "0     0.0              1                0                0  ...   \n",
       "1     0.0              1                0                0  ...   \n",
       "2     0.0              1                0                0  ...   \n",
       "3     0.0              1                0                0  ...   \n",
       "4     0.0              1                0                0  ...   \n",
       "\n",
       "   HouseStyle_SFoyer  HouseStyle_SLvl  Heating_Floor  Heating_GasA  \\\n",
       "0                  0                0              0             1   \n",
       "1                  0                0              0             1   \n",
       "2                  0                0              0             1   \n",
       "3                  0                0              0             1   \n",
       "4                  0                0              0             1   \n",
       "\n",
       "   Heating_GasW  Heating_Grav  Heating_OthW  Heating_Wall  CentralAir_N  \\\n",
       "0             0             0             0             0             0   \n",
       "1             0             0             0             0             0   \n",
       "2             0             0             0             0             0   \n",
       "3             0             0             0             0             0   \n",
       "4             0             0             0             0             0   \n",
       "\n",
       "   CentralAir_Y  \n",
       "0             1  \n",
       "1             1  \n",
       "2             1  \n",
       "3             1  \n",
       "4             1  \n",
       "\n",
       "[5 rows x 28 columns]"
      ]
     },
     "execution_count": 43,
     "metadata": {},
     "output_type": "execute_result"
    }
   ],
   "source": [
    "preprocessing = MinMaxScaler()\n",
    "df_preprocess2 = pd.DataFrame(preprocessing.fit_transform(df_numerical), columns=df_numerical.columns)\n",
    "df_preprocess2 = df_preprocess2.join(pd.get_dummies(df[['BldgType', 'HouseStyle', 'Heating', 'CentralAir']]))\n",
    "df_preprocess2.head()"
   ]
  },
  {
   "cell_type": "code",
   "execution_count": 44,
   "id": "ecd4fcc2-f4e8-4188-8c35-470c000344ba",
   "metadata": {},
   "outputs": [
    {
     "data": {
      "text/plain": [
       "(1460, 27)"
      ]
     },
     "execution_count": 44,
     "metadata": {},
     "output_type": "execute_result"
    }
   ],
   "source": [
    "X2 = df_preprocess2.drop('Target', axis=1)\n",
    "X2.shape"
   ]
  },
  {
   "cell_type": "code",
   "execution_count": 45,
   "id": "aa5ec5d1-ea48-42b5-ae61-1ffb076f8b54",
   "metadata": {},
   "outputs": [
    {
     "data": {
      "text/plain": [
       "(1460,)"
      ]
     },
     "execution_count": 45,
     "metadata": {},
     "output_type": "execute_result"
    }
   ],
   "source": [
    "y = df.Target\n",
    "y.shape"
   ]
  },
  {
   "cell_type": "code",
   "execution_count": 46,
   "id": "54331ecf-471f-4d85-a374-3d975c6a9b86",
   "metadata": {},
   "outputs": [
    {
     "name": "stderr",
     "output_type": "stream",
     "text": [
      "c:\\users\\proko\\appdata\\local\\programs\\python\\python38-32\\lib\\site-packages\\sklearn\\base.py:441: UserWarning: X does not have valid feature names, but KNeighborsClassifier was fitted with feature names\n",
      "  warnings.warn(\n",
      "c:\\users\\proko\\appdata\\local\\programs\\python\\python38-32\\lib\\site-packages\\sklearn\\base.py:441: UserWarning: X does not have valid feature names, but KNeighborsClassifier was fitted with feature names\n",
      "  warnings.warn(\n",
      "c:\\users\\proko\\appdata\\local\\programs\\python\\python38-32\\lib\\site-packages\\sklearn\\base.py:441: UserWarning: X does not have valid feature names, but KNeighborsClassifier was fitted with feature names\n",
      "  warnings.warn(\n",
      "c:\\users\\proko\\appdata\\local\\programs\\python\\python38-32\\lib\\site-packages\\sklearn\\base.py:441: UserWarning: X does not have valid feature names, but KNeighborsClassifier was fitted with feature names\n",
      "  warnings.warn(\n",
      "c:\\users\\proko\\appdata\\local\\programs\\python\\python38-32\\lib\\site-packages\\sklearn\\base.py:441: UserWarning: X does not have valid feature names, but KNeighborsClassifier was fitted with feature names\n",
      "  warnings.warn(\n"
     ]
    },
    {
     "data": {
      "text/plain": [
       "(0.7055763938921833,\n",
       " 0.056558151744468654,\n",
       " [0.6753246753246753,\n",
       "  0.7733333333333334,\n",
       "  0.6944444444444445,\n",
       "  0.763157894736842,\n",
       "  0.6216216216216216])"
      ]
     },
     "execution_count": 46,
     "metadata": {},
     "output_type": "execute_result"
    }
   ],
   "source": [
    "clf = KNeighborsClassifier(n_neighbors=10)\n",
    "evaluate_classifier(clf, X2, y)"
   ]
  }
 ],
 "metadata": {
  "kernelspec": {
   "display_name": "Python 3 (ipykernel)",
   "language": "python",
   "name": "python3"
  },
  "language_info": {
   "codemirror_mode": {
    "name": "ipython",
    "version": 3
   },
   "file_extension": ".py",
   "mimetype": "text/x-python",
   "name": "python",
   "nbconvert_exporter": "python",
   "pygments_lexer": "ipython3",
   "version": "3.8.6rc1"
  }
 },
 "nbformat": 4,
 "nbformat_minor": 5
}
